{
  "nbformat": 4,
  "nbformat_minor": 0,
  "metadata": {
    "kernelspec": {
      "name": "python3",
      "display_name": "Python 3"
    },
    "language_info": {
      "codemirror_mode": {
        "name": "ipython",
        "version": 3
      },
      "file_extension": ".py",
      "mimetype": "text/x-python",
      "name": "python",
      "nbconvert_exporter": "python",
      "pygments_lexer": "ipython3",
      "version": "3.7.4"
    },
    "colab": {
      "name": "kendaraan_cnn.ipynb",
      "provenance": []
    },
    "accelerator": "GPU"
  },
  "cells": [
    {
      "cell_type": "code",
      "metadata": {
        "id": "_dJvuvIBVLS_",
        "colab": {
          "base_uri": "https://localhost:8080/"
        },
        "outputId": "7810cce1-9cca-4341-c1c5-85ebd29e5bdb"
      },
      "source": [
        "from google.colab import drive\n",
        "drive.mount('/content/drive')"
      ],
      "execution_count": 1,
      "outputs": [
        {
          "output_type": "stream",
          "text": [
            "Mounted at /content/drive\n"
          ],
          "name": "stdout"
        }
      ]
    },
    {
      "cell_type": "code",
      "metadata": {
        "id": "H215ikbNVVZS",
        "colab": {
          "base_uri": "https://localhost:8080/"
        },
        "outputId": "a5006616-46d9-4b1d-d1d1-7d22275a36d4"
      },
      "source": [
        "cd /content/drive/My Drive/Colab Notebooks"
      ],
      "execution_count": 2,
      "outputs": [
        {
          "output_type": "stream",
          "text": [
            "/content/drive/My Drive/Colab Notebooks\n"
          ],
          "name": "stdout"
        }
      ]
    },
    {
      "cell_type": "code",
      "metadata": {
        "id": "z7VB1d4wVdov",
        "outputId": "68b0133f-d388-4ded-ec52-2db9227f7881",
        "colab": {
          "base_uri": "https://localhost:8080/"
        }
      },
      "source": [
        "ls"
      ],
      "execution_count": 3,
      "outputs": [
        {
          "output_type": "stream",
          "text": [
            "\u001b[0m\u001b[01;34m'Dataset MNIST'\u001b[0m/               \u001b[01;34mLatihan\u001b[0m/          Tes.jpg\n",
            " Klasifikasi_MNIST.ipynb       mnist_test.csv    Untitled0.ipynb\n",
            " Klasifikasi_MNIST_new.ipynb   mnist_train.csv\n"
          ],
          "name": "stdout"
        }
      ]
    },
    {
      "cell_type": "code",
      "metadata": {
        "id": "5IGm26ZzVGBs",
        "outputId": "8c20d8c3-e973-436a-c10d-4a26faaf13c5",
        "colab": {
          "base_uri": "https://localhost:8080/"
        }
      },
      "source": [
        "# import the necessary packages\n",
        "from keras.models import Sequential\n",
        "from keras.layers.convolutional import Conv2D\n",
        "from keras.layers.convolutional import MaxPooling2D\n",
        "from keras.layers.core import Activation\n",
        "from keras.layers.core import Flatten\n",
        "from keras.layers.core import Dense\n",
        "from keras.optimizers import Adam, SGD, RMSprop\n",
        "from sklearn.preprocessing import LabelBinarizer\n",
        "from sklearn.model_selection import train_test_split\n",
        "from sklearn.metrics import classification_report\n",
        "from PIL import Image\n",
        "from imutils import paths\n",
        "import numpy as np\n",
        "import os\n",
        "print(\"[INFO] impoting packages...\")"
      ],
      "execution_count": 5,
      "outputs": [
        {
          "output_type": "stream",
          "text": [
            "[INFO] impoting packages...\n"
          ],
          "name": "stdout"
        }
      ]
    },
    {
      "cell_type": "code",
      "metadata": {
        "id": "0-5PXYTsVGBw",
        "colab": {
          "base_uri": "https://localhost:8080/"
        },
        "outputId": "ecda2aa6-bca5-4a70-e7a6-d74795919e52"
      },
      "source": [
        "# grab all image paths in the input dataset directory, then initialize\n",
        "# our list of images and corresponding class labels\n",
        "print(\"[INFO] loading images...\")\n",
        "imagePaths = paths.list_images(\"Latihan\")\n",
        "data = []\n",
        "labels = []"
      ],
      "execution_count": 6,
      "outputs": [
        {
          "output_type": "stream",
          "text": [
            "[INFO] loading images...\n"
          ],
          "name": "stdout"
        }
      ]
    },
    {
      "cell_type": "code",
      "metadata": {
        "id": "9Q-KXSsGVGB0",
        "outputId": "0262eb3f-c02c-4ea3-8d16-fe30533d5472",
        "colab": {
          "base_uri": "https://localhost:8080/"
        }
      },
      "source": [
        "# loop over our input images\n",
        "for imagePath in imagePaths:\n",
        "\t# load the input image from disk, resize it to 32x32 pixels, scale\n",
        "\t# the pixel intensities to the range [0, 1], and then update our\n",
        "\t# images list\n",
        "\timage = Image.open(imagePath)\n",
        "\timage = np.array(image.resize((64, 64))) / 255.0 #normalisasi\n",
        "\tdata.append(image)\n",
        "\n",
        "\t# extract the class label from the file path and update the\n",
        "\t# labels list\n",
        "\tlabel = imagePath.split(os.path.sep)[-2]\n",
        "\tlabels.append(label)\n",
        "print(labels)"
      ],
      "execution_count": 9,
      "outputs": [
        {
          "output_type": "stream",
          "text": [
            "['LPD', 'LPD', 'LPD', 'LPD', 'LPD', 'LPD', 'LPD', 'LPD', 'LPD', 'LPD', 'Sipil', 'Sipil', 'Sipil', 'Sipil', 'Sipil', 'Sipil', 'Sipil', 'Sipil', 'Sipil', 'Sipil', 'Fregat', 'Fregat', 'Fregat', 'Fregat', 'Fregat', 'Fregat', 'Fregat', 'Fregat', 'Fregat', 'Fregat']\n"
          ],
          "name": "stdout"
        }
      ]
    },
    {
      "cell_type": "code",
      "metadata": {
        "id": "twd1IeuKVGB5"
      },
      "source": [
        "# encode the labels, converting them from strings to integers\n",
        "lb = LabelBinarizer()\n",
        "labels = lb.fit_transform(labels)"
      ],
      "execution_count": 11,
      "outputs": []
    },
    {
      "cell_type": "code",
      "metadata": {
        "id": "5FPCyIqcVGB7",
        "colab": {
          "base_uri": "https://localhost:8080/"
        },
        "outputId": "f3e70892-190f-4614-c703-6e2690741864"
      },
      "source": [
        "print(labels)"
      ],
      "execution_count": 12,
      "outputs": [
        {
          "output_type": "stream",
          "text": [
            "[[0 1 0]\n",
            " [0 1 0]\n",
            " [0 1 0]\n",
            " [0 1 0]\n",
            " [0 1 0]\n",
            " [0 1 0]\n",
            " [0 1 0]\n",
            " [0 1 0]\n",
            " [0 1 0]\n",
            " [0 1 0]\n",
            " [0 0 1]\n",
            " [0 0 1]\n",
            " [0 0 1]\n",
            " [0 0 1]\n",
            " [0 0 1]\n",
            " [0 0 1]\n",
            " [0 0 1]\n",
            " [0 0 1]\n",
            " [0 0 1]\n",
            " [0 0 1]\n",
            " [1 0 0]\n",
            " [1 0 0]\n",
            " [1 0 0]\n",
            " [1 0 0]\n",
            " [1 0 0]\n",
            " [1 0 0]\n",
            " [1 0 0]\n",
            " [1 0 0]\n",
            " [1 0 0]\n",
            " [1 0 0]]\n"
          ],
          "name": "stdout"
        }
      ]
    },
    {
      "cell_type": "code",
      "metadata": {
        "id": "ktZ5hNYwVGB9",
        "colab": {
          "base_uri": "https://localhost:8080/"
        },
        "outputId": "1e227f34-5039-4c1c-c480-01440e21b49c"
      },
      "source": [
        "# perform a training and testing split, using 75% of the data for\n",
        "# training and 25% for evaluation\n",
        "(trainX, testX, trainY, testY) = train_test_split(np.array(data),\tnp.array(labels), test_size=0.25, shuffle=True)\n",
        "print(trainX.shape)\n",
        "print(testX.shape)"
      ],
      "execution_count": 13,
      "outputs": [
        {
          "output_type": "stream",
          "text": [
            "(22, 64, 64, 3)\n",
            "(8, 64, 64, 3)\n"
          ],
          "name": "stdout"
        }
      ]
    },
    {
      "cell_type": "code",
      "metadata": {
        "id": "Dakx3gIY7cky"
      },
      "source": [
        "from keras.layers import Dropout\n",
        "#MODEL 1\n",
        "# define our Convolutional Neural Network architecture\n",
        "model = Sequential()\n",
        "model.add(Conv2D(8, (3, 3), padding=\"same\", input_shape=(64, 64, 3)))\n",
        "model.add(Activation(\"relu\"))\n",
        "model.add(MaxPooling2D(pool_size=(2, 2), strides=(2, 2)))\n",
        "model.add(Conv2D(16, (3, 3), padding=\"same\"))\n",
        "model.add(Activation(\"relu\"))\n",
        "model.add(MaxPooling2D(pool_size=(2, 2), strides=(2, 2)))\n",
        "model.add(Conv2D(32, (3, 3), padding=\"same\"))\n",
        "model.add(Activation(\"relu\"))\n",
        "model.add(MaxPooling2D(pool_size=(2, 2), strides=(2, 2)))\n",
        "model.add(Flatten()) #menjadi 1 dimensi\n",
        "model.add(Dropout(0.5))\n",
        "# model.add(Dense(100))\n",
        "model.add(Dense(3))\n",
        "model.add(Activation(\"softmax\")) #softmax, sigmoid, tanh"
      ],
      "execution_count": 14,
      "outputs": []
    },
    {
      "cell_type": "code",
      "metadata": {
        "id": "AhGE-I4pDBLQ",
        "colab": {
          "base_uri": "https://localhost:8080/"
        },
        "outputId": "ad9541b9-4046-4e25-c50b-b1b541f7794e"
      },
      "source": [
        "model.summary()"
      ],
      "execution_count": 15,
      "outputs": [
        {
          "output_type": "stream",
          "text": [
            "Model: \"sequential\"\n",
            "_________________________________________________________________\n",
            "Layer (type)                 Output Shape              Param #   \n",
            "=================================================================\n",
            "conv2d (Conv2D)              (None, 64, 64, 8)         224       \n",
            "_________________________________________________________________\n",
            "activation (Activation)      (None, 64, 64, 8)         0         \n",
            "_________________________________________________________________\n",
            "max_pooling2d (MaxPooling2D) (None, 32, 32, 8)         0         \n",
            "_________________________________________________________________\n",
            "conv2d_1 (Conv2D)            (None, 32, 32, 16)        1168      \n",
            "_________________________________________________________________\n",
            "activation_1 (Activation)    (None, 32, 32, 16)        0         \n",
            "_________________________________________________________________\n",
            "max_pooling2d_1 (MaxPooling2 (None, 16, 16, 16)        0         \n",
            "_________________________________________________________________\n",
            "conv2d_2 (Conv2D)            (None, 16, 16, 32)        4640      \n",
            "_________________________________________________________________\n",
            "activation_2 (Activation)    (None, 16, 16, 32)        0         \n",
            "_________________________________________________________________\n",
            "max_pooling2d_2 (MaxPooling2 (None, 8, 8, 32)          0         \n",
            "_________________________________________________________________\n",
            "flatten (Flatten)            (None, 2048)              0         \n",
            "_________________________________________________________________\n",
            "dropout (Dropout)            (None, 2048)              0         \n",
            "_________________________________________________________________\n",
            "dense (Dense)                (None, 3)                 6147      \n",
            "_________________________________________________________________\n",
            "activation_3 (Activation)    (None, 3)                 0         \n",
            "=================================================================\n",
            "Total params: 12,179\n",
            "Trainable params: 12,179\n",
            "Non-trainable params: 0\n",
            "_________________________________________________________________\n"
          ],
          "name": "stdout"
        }
      ]
    },
    {
      "cell_type": "code",
      "metadata": {
        "id": "8Aja9s1NVGB_"
      },
      "source": [
        "#MODEL 2\n",
        "# define our Convolutional Neural Network architecture\n",
        "model = Sequential()\n",
        "model.add(Conv2D(16, (3, 3), padding=\"same\", input_shape=(64, 64, 3)))\n",
        "model.add(Activation(\"relu\"))\n",
        "model.add(MaxPooling2D(pool_size=(2, 2), strides=(2, 2)))\n",
        "model.add(Conv2D(32, (3, 3), padding=\"same\"))\n",
        "model.add(Activation(\"relu\"))\n",
        "model.add(MaxPooling2D(pool_size=(2, 2), strides=(2, 2)))\n",
        "model.add(Conv2D(32, (3, 3), padding=\"same\"))\n",
        "model.add(Activation(\"relu\"))\n",
        "model.add(MaxPooling2D(pool_size=(2, 2), strides=(2, 2)))\n",
        "model.add(Flatten())\n",
        "model.add(Dense(100))\n",
        "model.add(Dense(3))\n",
        "model.add(Activation(\"softmax\"))"
      ],
      "execution_count": 17,
      "outputs": []
    },
    {
      "cell_type": "code",
      "metadata": {
        "scrolled": true,
        "id": "ggcSdj_aVGCB",
        "colab": {
          "base_uri": "https://localhost:8080/"
        },
        "outputId": "6f27a8f6-dbb7-48ef-dc47-6888b514ae62"
      },
      "source": [
        "# train the model using the Adam optimizer\n",
        "print(\"[INFO] training network...\")\n",
        "opt = Adam(lr=1e-3, decay=1e-3 / 50)\n",
        "model.compile(loss=\"categorical_crossentropy\", optimizer=opt,\n",
        "\tmetrics=[\"accuracy\"])\n",
        "H = model.fit(trainX, trainY, validation_data=(testX, testY),\n",
        "\tepochs=50, batch_size=32)"
      ],
      "execution_count": 18,
      "outputs": [
        {
          "output_type": "stream",
          "text": [
            "[INFO] training network...\n",
            "Epoch 1/50\n",
            "1/1 [==============================] - 0s 213ms/step - loss: 1.0895 - accuracy: 0.2727 - val_loss: 1.0912 - val_accuracy: 0.2500\n",
            "Epoch 2/50\n",
            "1/1 [==============================] - 0s 18ms/step - loss: 1.0346 - accuracy: 0.3636 - val_loss: 1.0155 - val_accuracy: 0.2500\n",
            "Epoch 3/50\n",
            "1/1 [==============================] - 0s 18ms/step - loss: 0.9684 - accuracy: 0.3636 - val_loss: 0.9297 - val_accuracy: 0.8750\n",
            "Epoch 4/50\n",
            "1/1 [==============================] - 0s 17ms/step - loss: 0.8967 - accuracy: 0.9545 - val_loss: 0.8406 - val_accuracy: 0.8750\n",
            "Epoch 5/50\n",
            "1/1 [==============================] - 0s 17ms/step - loss: 0.8056 - accuracy: 0.9545 - val_loss: 0.7484 - val_accuracy: 1.0000\n",
            "Epoch 6/50\n",
            "1/1 [==============================] - 0s 20ms/step - loss: 0.7046 - accuracy: 0.8636 - val_loss: 0.6307 - val_accuracy: 0.8750\n",
            "Epoch 7/50\n",
            "1/1 [==============================] - 0s 22ms/step - loss: 0.5871 - accuracy: 0.9545 - val_loss: 0.5256 - val_accuracy: 0.8750\n",
            "Epoch 8/50\n",
            "1/1 [==============================] - 0s 18ms/step - loss: 0.4720 - accuracy: 0.9545 - val_loss: 0.4228 - val_accuracy: 1.0000\n",
            "Epoch 9/50\n",
            "1/1 [==============================] - 0s 20ms/step - loss: 0.3670 - accuracy: 0.9545 - val_loss: 0.3589 - val_accuracy: 0.8750\n",
            "Epoch 10/50\n",
            "1/1 [==============================] - 0s 18ms/step - loss: 0.3156 - accuracy: 1.0000 - val_loss: 0.3778 - val_accuracy: 1.0000\n",
            "Epoch 11/50\n",
            "1/1 [==============================] - 0s 19ms/step - loss: 0.2969 - accuracy: 0.8636 - val_loss: 0.2631 - val_accuracy: 0.8750\n",
            "Epoch 12/50\n",
            "1/1 [==============================] - 0s 18ms/step - loss: 0.1778 - accuracy: 0.9545 - val_loss: 0.3500 - val_accuracy: 0.8750\n",
            "Epoch 13/50\n",
            "1/1 [==============================] - 0s 18ms/step - loss: 0.2168 - accuracy: 1.0000 - val_loss: 0.2299 - val_accuracy: 0.8750\n",
            "Epoch 14/50\n",
            "1/1 [==============================] - 0s 17ms/step - loss: 0.1199 - accuracy: 1.0000 - val_loss: 0.2895 - val_accuracy: 0.8750\n",
            "Epoch 15/50\n",
            "1/1 [==============================] - 0s 18ms/step - loss: 0.1497 - accuracy: 1.0000 - val_loss: 0.1919 - val_accuracy: 0.8750\n",
            "Epoch 16/50\n",
            "1/1 [==============================] - 0s 20ms/step - loss: 0.0744 - accuracy: 1.0000 - val_loss: 0.2741 - val_accuracy: 0.8750\n",
            "Epoch 17/50\n",
            "1/1 [==============================] - 0s 22ms/step - loss: 0.0906 - accuracy: 1.0000 - val_loss: 0.3022 - val_accuracy: 0.8750\n",
            "Epoch 18/50\n",
            "1/1 [==============================] - 0s 19ms/step - loss: 0.0536 - accuracy: 1.0000 - val_loss: 0.3370 - val_accuracy: 0.8750\n",
            "Epoch 19/50\n",
            "1/1 [==============================] - 0s 18ms/step - loss: 0.0401 - accuracy: 1.0000 - val_loss: 0.3869 - val_accuracy: 0.8750\n",
            "Epoch 20/50\n",
            "1/1 [==============================] - 0s 19ms/step - loss: 0.0445 - accuracy: 1.0000 - val_loss: 0.3101 - val_accuracy: 0.8750\n",
            "Epoch 21/50\n",
            "1/1 [==============================] - 0s 22ms/step - loss: 0.0221 - accuracy: 1.0000 - val_loss: 0.2577 - val_accuracy: 0.8750\n",
            "Epoch 22/50\n",
            "1/1 [==============================] - 0s 18ms/step - loss: 0.0169 - accuracy: 1.0000 - val_loss: 0.2817 - val_accuracy: 0.8750\n",
            "Epoch 23/50\n",
            "1/1 [==============================] - 0s 18ms/step - loss: 0.0207 - accuracy: 1.0000 - val_loss: 0.3482 - val_accuracy: 0.8750\n",
            "Epoch 24/50\n",
            "1/1 [==============================] - 0s 17ms/step - loss: 0.0150 - accuracy: 1.0000 - val_loss: 0.4345 - val_accuracy: 0.8750\n",
            "Epoch 25/50\n",
            "1/1 [==============================] - 0s 17ms/step - loss: 0.0072 - accuracy: 1.0000 - val_loss: 0.5501 - val_accuracy: 0.8750\n",
            "Epoch 26/50\n",
            "1/1 [==============================] - 0s 22ms/step - loss: 0.0048 - accuracy: 1.0000 - val_loss: 0.6882 - val_accuracy: 0.8750\n",
            "Epoch 27/50\n",
            "1/1 [==============================] - 0s 20ms/step - loss: 0.0057 - accuracy: 1.0000 - val_loss: 0.8070 - val_accuracy: 0.8750\n",
            "Epoch 28/50\n",
            "1/1 [==============================] - 0s 20ms/step - loss: 0.0070 - accuracy: 1.0000 - val_loss: 0.8613 - val_accuracy: 0.8750\n",
            "Epoch 29/50\n",
            "1/1 [==============================] - 0s 19ms/step - loss: 0.0059 - accuracy: 1.0000 - val_loss: 0.8597 - val_accuracy: 0.8750\n",
            "Epoch 30/50\n",
            "1/1 [==============================] - 0s 19ms/step - loss: 0.0036 - accuracy: 1.0000 - val_loss: 0.8374 - val_accuracy: 0.8750\n",
            "Epoch 31/50\n",
            "1/1 [==============================] - 0s 27ms/step - loss: 0.0020 - accuracy: 1.0000 - val_loss: 0.8161 - val_accuracy: 0.8750\n",
            "Epoch 32/50\n",
            "1/1 [==============================] - 0s 22ms/step - loss: 0.0015 - accuracy: 1.0000 - val_loss: 0.8010 - val_accuracy: 0.8750\n",
            "Epoch 33/50\n",
            "1/1 [==============================] - 0s 20ms/step - loss: 0.0014 - accuracy: 1.0000 - val_loss: 0.7892 - val_accuracy: 0.8750\n",
            "Epoch 34/50\n",
            "1/1 [==============================] - 0s 21ms/step - loss: 0.0015 - accuracy: 1.0000 - val_loss: 0.7767 - val_accuracy: 0.8750\n",
            "Epoch 35/50\n",
            "1/1 [==============================] - 0s 19ms/step - loss: 0.0016 - accuracy: 1.0000 - val_loss: 0.7596 - val_accuracy: 0.8750\n",
            "Epoch 36/50\n",
            "1/1 [==============================] - 0s 17ms/step - loss: 0.0015 - accuracy: 1.0000 - val_loss: 0.7399 - val_accuracy: 0.8750\n",
            "Epoch 37/50\n",
            "1/1 [==============================] - 0s 18ms/step - loss: 0.0012 - accuracy: 1.0000 - val_loss: 0.7226 - val_accuracy: 0.8750\n",
            "Epoch 38/50\n",
            "1/1 [==============================] - 0s 17ms/step - loss: 8.7793e-04 - accuracy: 1.0000 - val_loss: 0.7132 - val_accuracy: 0.8750\n",
            "Epoch 39/50\n",
            "1/1 [==============================] - 0s 18ms/step - loss: 6.4763e-04 - accuracy: 1.0000 - val_loss: 0.7148 - val_accuracy: 0.8750\n",
            "Epoch 40/50\n",
            "1/1 [==============================] - 0s 22ms/step - loss: 5.0427e-04 - accuracy: 1.0000 - val_loss: 0.7271 - val_accuracy: 0.8750\n",
            "Epoch 41/50\n",
            "1/1 [==============================] - 0s 18ms/step - loss: 4.3075e-04 - accuracy: 1.0000 - val_loss: 0.7482 - val_accuracy: 0.8750\n",
            "Epoch 42/50\n",
            "1/1 [==============================] - 0s 18ms/step - loss: 4.0748e-04 - accuracy: 1.0000 - val_loss: 0.7739 - val_accuracy: 0.8750\n",
            "Epoch 43/50\n",
            "1/1 [==============================] - 0s 17ms/step - loss: 4.1499e-04 - accuracy: 1.0000 - val_loss: 0.8002 - val_accuracy: 0.8750\n",
            "Epoch 44/50\n",
            "1/1 [==============================] - 0s 19ms/step - loss: 4.3281e-04 - accuracy: 1.0000 - val_loss: 0.8235 - val_accuracy: 0.8750\n",
            "Epoch 45/50\n",
            "1/1 [==============================] - 0s 21ms/step - loss: 4.4077e-04 - accuracy: 1.0000 - val_loss: 0.8425 - val_accuracy: 0.8750\n",
            "Epoch 46/50\n",
            "1/1 [==============================] - 0s 20ms/step - loss: 4.2661e-04 - accuracy: 1.0000 - val_loss: 0.8568 - val_accuracy: 0.8750\n",
            "Epoch 47/50\n",
            "1/1 [==============================] - 0s 20ms/step - loss: 3.9081e-04 - accuracy: 1.0000 - val_loss: 0.8672 - val_accuracy: 0.8750\n",
            "Epoch 48/50\n",
            "1/1 [==============================] - 0s 23ms/step - loss: 3.4059e-04 - accuracy: 1.0000 - val_loss: 0.8746 - val_accuracy: 0.8750\n",
            "Epoch 49/50\n",
            "1/1 [==============================] - 0s 20ms/step - loss: 2.8729e-04 - accuracy: 1.0000 - val_loss: 0.8810 - val_accuracy: 0.8750\n",
            "Epoch 50/50\n",
            "1/1 [==============================] - 0s 20ms/step - loss: 2.3934e-04 - accuracy: 1.0000 - val_loss: 0.8873 - val_accuracy: 0.8750\n"
          ],
          "name": "stdout"
        }
      ]
    },
    {
      "cell_type": "code",
      "metadata": {
        "id": "98_oXi-lcgux",
        "colab": {
          "base_uri": "https://localhost:8080/",
          "height": 590
        },
        "outputId": "121844f7-fe3b-4aa4-8d6b-b34776c5896c"
      },
      "source": [
        "import matplotlib.pyplot as plt\n",
        "\n",
        "print(H.history.keys())\n",
        "# summarize history for accuracy\n",
        "plt.plot(H.history['accuracy'])\n",
        "plt.plot(H.history['val_accuracy'])\n",
        "plt.title('model accuracy')\n",
        "plt.ylabel('accuracy')\n",
        "plt.xlabel('epoch')\n",
        "plt.legend(['train', 'test'], loc='upper left')\n",
        "plt.show()\n",
        "# summarize history for loss\n",
        "plt.plot(H.history['loss'])\n",
        "plt.plot(H.history['val_loss'])\n",
        "plt.title('model loss')\n",
        "plt.ylabel('loss')\n",
        "plt.xlabel('epoch')\n",
        "plt.legend(['train', 'test'], loc='upper left')\n",
        "plt.show()"
      ],
      "execution_count": 19,
      "outputs": [
        {
          "output_type": "stream",
          "text": [
            "dict_keys(['loss', 'accuracy', 'val_loss', 'val_accuracy'])\n"
          ],
          "name": "stdout"
        },
        {
          "output_type": "display_data",
          "data": {
            "image/png": "[encoded data removed]",
            "text/plain": [
              "<Figure size 432x288 with 1 Axes>"
            ]
          },
          "metadata": {
            "tags": [],
            "needs_background": "light"
          }
        },
        {
          "output_type": "display_data",
          "data": {
            "image/png": "[encoded data removed]",
            "text/plain": [
              "<Figure size 432x288 with 1 Axes>"
            ]
          },
          "metadata": {
            "tags": [],
            "needs_background": "light"
          }
        }
      ]
    },
    {
      "cell_type": "code",
      "metadata": {
        "id": "lPAZkmBJVGCD",
        "colab": {
          "base_uri": "https://localhost:8080/"
        },
        "outputId": "5cce2a2c-0966-4e36-94e6-96d64338b186"
      },
      "source": [
        "# evaluate the network\n",
        "print(\"[INFO] evaluating network...\")\n",
        "predictions = model.predict(testX, batch_size=32)\n",
        "print(classification_report(testY.argmax(axis=1),\n",
        "\tpredictions.argmax(axis=1), target_names=lb.classes_))"
      ],
      "execution_count": 20,
      "outputs": [
        {
          "output_type": "stream",
          "text": [
            "[INFO] evaluating network...\n",
            "              precision    recall  f1-score   support\n",
            "\n",
            "      Fregat       1.00      1.00      1.00         3\n",
            "         LPD       0.67      1.00      0.80         2\n",
            "       Sipil       1.00      0.67      0.80         3\n",
            "\n",
            "    accuracy                           0.88         8\n",
            "   macro avg       0.89      0.89      0.87         8\n",
            "weighted avg       0.92      0.88      0.88         8\n",
            "\n"
          ],
          "name": "stdout"
        }
      ]
    },
    {
      "cell_type": "code",
      "metadata": {
        "id": "h5EVGawRVGCF",
        "colab": {
          "base_uri": "https://localhost:8080/"
        },
        "outputId": "46d1336d-4821-4619-f0d4-59021686c53a"
      },
      "source": [
        "index=5\n",
        "\n",
        "image = np.expand_dims(testX[index], axis=0)\n",
        "output = model.predict(image, 1)\n",
        "print(output)\n",
        "print(lb.classes_[output.argmax(axis=1)])"
      ],
      "execution_count": 21,
      "outputs": [
        {
          "output_type": "stream",
          "text": [
            "[[3.1881717e-07 1.8517339e-08 9.9999964e-01]]\n",
            "['Sipil']\n"
          ],
          "name": "stdout"
        }
      ]
    },
    {
      "cell_type": "code",
      "metadata": {
        "id": "A7Sd9xxIVGCI",
        "colab": {
          "base_uri": "https://localhost:8080/"
        },
        "outputId": "60449f35-3da3-4b7f-d196-4ecbb9a8d4fe"
      },
      "source": [
        "imageY=testY[index]\n",
        "print(imageY)"
      ],
      "execution_count": 22,
      "outputs": [
        {
          "output_type": "stream",
          "text": [
            "[0 0 1]\n"
          ],
          "name": "stdout"
        }
      ]
    },
    {
      "cell_type": "code",
      "metadata": {
        "id": "JMbwNNpzVGCK",
        "colab": {
          "base_uri": "https://localhost:8080/"
        },
        "outputId": "89fafbdc-0763-41ea-fbd1-61c8325d98cf"
      },
      "source": [
        "result = np.where(imageY == np.amax(imageY))\n",
        "# print('Returned tuple of arrays :', result)\n",
        "# print('List of Indices of maximum element :', result[0])\n",
        "print(lb.classes_[result])"
      ],
      "execution_count": 23,
      "outputs": [
        {
          "output_type": "stream",
          "text": [
            "['Sipil']\n"
          ],
          "name": "stdout"
        }
      ]
    },
    {
      "cell_type": "code",
      "metadata": {
        "id": "AOwJT2jLVGCN"
      },
      "source": [
        "import cv2\n",
        "import matplotlib.pyplot as plt\n",
        "image1='Tes.jpg'"
      ],
      "execution_count": 32,
      "outputs": []
    },
    {
      "cell_type": "code",
      "metadata": {
        "id": "PkM68K4GVGCP",
        "colab": {
          "base_uri": "https://localhost:8080/",
          "height": 269
        },
        "outputId": "128423cf-a71c-40d9-b25e-8c0a5da83e1d"
      },
      "source": [
        "img_array = cv2.imread(image1)\n",
        "plt.imshow(img_array)\n",
        "plt.show()\n",
        "# print(type(img_array))"
      ],
      "execution_count": 33,
      "outputs": [
        {
          "output_type": "display_data",
          "data": {
            "image/png": "[encoded data removed]",
            "text/plain": [
              "<Figure size 432x288 with 1 Axes>"
            ]
          },
          "metadata": {
            "tags": [],
            "needs_background": "light"
          }
        }
      ]
    },
    {
      "cell_type": "code",
      "metadata": {
        "id": "1ZkNY8LWVGCR",
        "colab": {
          "base_uri": "https://localhost:8080/"
        },
        "outputId": "83f907a7-5b22-4031-fc2f-33fe8b3b4f18"
      },
      "source": [
        "image_testing = Image.open('Tes.jpg')\n",
        "image_testing = np.array(image_testing.resize((64, 64))) / 255.0\n",
        "image_testing.shape"
      ],
      "execution_count": 28,
      "outputs": [
        {
          "output_type": "execute_result",
          "data": {
            "text/plain": [
              "(64, 64, 3)"
            ]
          },
          "metadata": {
            "tags": []
          },
          "execution_count": 28
        }
      ]
    },
    {
      "cell_type": "code",
      "metadata": {
        "id": "qL66nfOcVGCT",
        "colab": {
          "base_uri": "https://localhost:8080/"
        },
        "outputId": "0f68af85-b8f0-4386-974d-f1b026c4ff15"
      },
      "source": [
        "image_testing = np.expand_dims(image_testing, axis=0)\n",
        "print(image_testing.shape)"
      ],
      "execution_count": 29,
      "outputs": [
        {
          "output_type": "stream",
          "text": [
            "(1, 64, 64, 3)\n"
          ],
          "name": "stdout"
        }
      ]
    },
    {
      "cell_type": "code",
      "metadata": {
        "id": "vTy9yP1AVGCV",
        "colab": {
          "base_uri": "https://localhost:8080/"
        },
        "outputId": "dfd93e2a-eb63-40b0-8290-65b1e7323f16"
      },
      "source": [
        "output = model.predict(image_testing, 1)\n",
        "print(output)\n",
        "print(lb.classes_[output.argmax(axis=1)])"
      ],
      "execution_count": 31,
      "outputs": [
        {
          "output_type": "stream",
          "text": [
            "[[0.53894573 0.00101137 0.46004292]]\n",
            "['Fregat']\n"
          ],
          "name": "stdout"
        }
      ]
    },
    {
      "cell_type": "code",
      "metadata": {
        "id": "NPOZ7bVphsGc"
      },
      "source": [
        ""
      ],
      "execution_count": null,
      "outputs": []
    }
  ]
}