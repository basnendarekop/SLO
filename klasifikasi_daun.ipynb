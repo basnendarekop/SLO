{
  "nbformat": 4,
  "nbformat_minor": 0,
  "metadata": {
    "colab": {
      "name": "klasifikasi daun.ipynb",
      "provenance": [],
      "collapsed_sections": [],
      "include_colab_link": true
    },
    "kernelspec": {
      "name": "python3",
      "display_name": "Python 3"
    }
  },
  "cells": [
    {
      "cell_type": "markdown",
      "metadata": {
        "id": "view-in-github",
        "colab_type": "text"
      },
      "source": [
        "<a href=\"https://colab.research.google.com/github/basnendarekop/SLO/blob/main/klasifikasi_daun.ipynb\" target=\"_parent\"><img src=\"https://colab.research.google.com/assets/colab-badge.svg\" alt=\"Open In Colab\"/></a>"
      ]
    },
    {
      "cell_type": "code",
      "metadata": {
        "id": "CM7fkmKMoH0y",
        "colab": {
          "base_uri": "https://localhost:8080/"
        },
        "outputId": "f2d3b8d3-1562-48e0-c878-8d882ef111a4"
      },
      "source": [
        "from google.colab import drive\n",
        "drive.mount('/content/drive')"
      ],
      "execution_count": 1,
      "outputs": [
        {
          "output_type": "stream",
          "text": [
            "Mounted at /content/drive\n"
          ],
          "name": "stdout"
        }
      ]
    },
    {
      "cell_type": "code",
      "metadata": {
        "id": "cksBIgKNoq07",
        "colab": {
          "base_uri": "https://localhost:8080/"
        },
        "outputId": "01dd2543-6b48-46d4-c1ae-28726d0421cf"
      },
      "source": [
        "cd /content/drive/My Drive/Colab Notebooks\n"
      ],
      "execution_count": 2,
      "outputs": [
        {
          "output_type": "stream",
          "text": [
            "/content/drive/.shortcut-targets-by-id/1E4fw9dGoIh7HUl2WTMoe0VGDRsBoPbQe/Colab Notebooks\n"
          ],
          "name": "stdout"
        }
      ]
    },
    {
      "cell_type": "code",
      "metadata": {
        "id": "JI0eBClPo96M",
        "colab": {
          "base_uri": "https://localhost:8080/"
        },
        "outputId": "6500957a-d75f-42be-d6ca-43bab3c18624"
      },
      "source": [
        "ls\n"
      ],
      "execution_count": 3,
      "outputs": [
        {
          "output_type": "stream",
          "text": [
            "\u001b[0m\u001b[01;34m'Copy of dataset'\u001b[0m/         Klasifikasi_MNIST.ipynb       Pertamina.jpg\n",
            " \u001b[01;34mdataset_daun\u001b[0m/             Klasifikasi_MNIST_new.ipynb   RumahSakit.jpg\n",
            "\u001b[01;34m'Dataset MNIST'\u001b[0m/           \u001b[01;34mLatihan\u001b[0m/                      Tes.jpg\n",
            " kapal.ipynb               mnist_test.csv                TLD.jpg\n",
            " KDA.jpg                   mnist_train.csv               Untitled0.ipynb\n",
            "'klasifikasi daun.ipynb'   Multatuli.jpg\n"
          ],
          "name": "stdout"
        }
      ]
    },
    {
      "cell_type": "code",
      "metadata": {
        "id": "YbEfoRuupDi7",
        "colab": {
          "base_uri": "https://localhost:8080/"
        },
        "outputId": "2aa320e1-743a-4728-c71f-f3d6beeeb31c"
      },
      "source": [
        "# import the necessary packages\n",
        "from keras.models import Sequential\n",
        "from keras.layers.convolutional import Conv2D\n",
        "from keras.layers.convolutional import MaxPooling2D\n",
        "from keras.layers.core import Activation\n",
        "from keras.layers.core import Flatten\n",
        "from keras.layers.core import Dense\n",
        "from keras.optimizers import Adam\n",
        "from sklearn.preprocessing import LabelBinarizer\n",
        "from sklearn.model_selection import train_test_split\n",
        "from sklearn.metrics import classification_report\n",
        "from PIL import Image\n",
        "from imutils import paths\n",
        "import numpy as np\n",
        "import os\n",
        "print(\"[INFO] importing packages...\")"
      ],
      "execution_count": 16,
      "outputs": [
        {
          "output_type": "stream",
          "text": [
            "[INFO] importing packages...\n"
          ],
          "name": "stdout"
        }
      ]
    },
    {
      "cell_type": "code",
      "metadata": {
        "id": "OAJANsY1qIC0",
        "colab": {
          "base_uri": "https://localhost:8080/"
        },
        "outputId": "15091fda-10c4-4ef5-c1b2-3981e2ff80c0"
      },
      "source": [
        "# grab all image paths in the input dataset directory, then initialize\n",
        "# our list of images and corresponding class labels\n",
        "print(\"[INFO] loading images...\")\n",
        "imagePaths = paths.list_images(\"dataset_daun\")\n",
        "data = []\n",
        "labels = []"
      ],
      "execution_count": 55,
      "outputs": [
        {
          "output_type": "stream",
          "text": [
            "[INFO] loading images...\n"
          ],
          "name": "stdout"
        }
      ]
    },
    {
      "cell_type": "code",
      "metadata": {
        "id": "33j2Ljrcq9n8",
        "colab": {
          "base_uri": "https://localhost:8080/"
        },
        "outputId": "95ad59da-b796-4b2d-af72-44707ff5fc94"
      },
      "source": [
        "# loop over our input images\n",
        "for imagePath in imagePaths:\n",
        "\t# load the input image from disk, resize it to 64x64pixels, scale\n",
        "\t# the pixel intensities to the range [0, 1], and then update our\n",
        "\t# images list\n",
        "\timage = Image.open(imagePath)\n",
        "\timage = np.array(image.resize((64, 64))) / 255.0\n",
        "\tdata.append(image)\n",
        "\n",
        "\t# extract the class label from the file path and update the\n",
        "\t# labels list\n",
        "\tlabel = imagePath.split(os.path.sep)[-2]\n",
        "\tlabels.append(label)\n",
        "print(labels)"
      ],
      "execution_count": 56,
      "outputs": [
        {
          "output_type": "stream",
          "text": [
            "['GMB_11', 'GMB_11', 'GMB_11', 'GMB_11', 'GMB_11', 'GMB_11', 'GMB_11', 'GMB_11', 'GMB_11', 'GMB_11', 'GMB_11', 'GMB_11', 'GMB_11', 'GMB_11', 'GMB_11', 'GMB_11', 'GMB_11', 'GMB_11', 'GMB_11', 'GMB_11', 'GMB_11', 'GMB_11', 'GMB_11', 'GMB_11', 'GMB_11', 'GMB_11', 'GMB_11', 'GMB_11', 'GMB_11', 'GMB_11', 'GMB_11', 'GMB_11', 'GMB_11', 'GMB_11', 'GMB_11', 'GMB_11', 'GMB_11', 'GMB_11', 'GMB_11', 'GMB_11', 'GMB_11', 'GMB_11', 'GMB_11', 'GMB_11', 'GMB_11', 'GMB_11', 'GMB_11', 'GMB_11', 'GMB_11', 'GMB_11', 'GMB_11', 'GMB_11', 'GMB_11', 'GMB_11', 'GMB_11', 'GMB_11', 'GMB_11', 'GMB_11', 'GMB_11', 'GMB_11', 'GMB_11', 'GMB_11', 'GMB_11', 'GMB_11', 'GMB_11', 'GMB_11', 'GMB_11', 'GMB_11', 'GMB_11', 'GMB_11', 'GMB_11', 'GMB_11', 'GMB_11', 'GMB_11', 'GMB_11', 'GMB_11', 'GMB_11', 'GMB_11', 'GMB_11', 'GMB_11', 'GMB_11', 'GMB_11', 'GMB_11', 'GMB_11', 'GMB_11', 'GMB_11', 'GMB_11', 'GMB_11', 'GMB_11', 'GMB_11', 'GMB_11', 'GMB_11', 'GMB_11', 'GMB_11', 'GMB_11', 'GMB_11', 'GMB_11', 'GMB_11', 'GMB_11', 'GMB_11', 'GMB_11', 'GMB_11', 'GMB_11', 'GMB_11', 'GMB_11', 'GMB_11', 'GMB_11', 'GMB_11', 'GMB_11', 'GMB_11', 'GMB_11', 'GMB_11', 'GMB_11', 'GMB_11', 'GMB_11', 'GMB_11', 'GMB_11', 'GMB_11', 'GMB_11', 'GMB_11', 'GMB_11', 'GMB_11', 'GMB_11', 'GMB_11', 'GMB_11', 'GMB_11', 'GMB_11', 'GMB_11', 'GMB_11', 'GMB_10', 'GMB_10', 'GMB_10', 'GMB_10', 'GMB_10', 'GMB_10', 'GMB_10', 'GMB_10', 'GMB_10', 'GMB_10', 'GMB_10', 'GMB_10', 'GMB_10', 'GMB_10', 'GMB_10', 'GMB_10', 'GMB_10', 'GMB_10', 'GMB_10', 'GMB_10', 'GMB_10', 'GMB_10', 'GMB_10', 'GMB_10', 'GMB_10', 'GMB_10', 'GMB_10', 'GMB_10', 'GMB_10', 'GMB_10', 'GMB_10', 'GMB_10', 'GMB_10', 'GMB_10', 'GMB_10', 'GMB_10', 'GMB_10', 'GMB_10', 'GMB_10', 'GMB_10', 'GMB_10', 'GMB_10', 'GMB_10', 'GMB_10', 'GMB_10', 'GMB_10', 'GMB_10', 'GMB_10', 'GMB_10', 'GMB_10', 'GMB_10', 'GMB_10', 'GMB_10', 'GMB_10', 'GMB_10', 'GMB_10', 'GMB_10', 'GMB_10', 'GMB_10', 'GMB_10', 'GMB_10', 'GMB_10', 'GMB_10', 'GMB_10', 'GMB_10', 'GMB_10', 'GMB_10', 'GMB_10', 'GMB_10', 'GMB_10', 'GMB_10', 'GMB_10', 'GMB_10', 'GMB_10', 'GMB_10', 'GMB_10', 'GMB_10', 'GMB_10', 'GMB_10', 'GMB_10', 'GMB_10', 'GMB_10', 'GMB_10', 'GMB_10', 'GMB_10', 'GMB_10', 'GMB_10', 'GMB_10', 'GMB_10', 'GMB_10', 'GMB_10', 'GMB_10', 'GMB_10', 'GMB_10', 'GMB_10', 'GMB_10', 'GMB_10', 'GMB_10', 'GMB_10', 'GMB_10', 'GMB_10', 'GMB_10', 'GMB_10', 'GMB_10', 'GMB_10', 'GMB_10', 'GMB_10', 'GMB_10', 'GMB_10', 'GMB_10', 'GMB_10', 'GMB_10', 'GMB_10', 'GMB_10', 'GMB_03', 'GMB_03', 'GMB_03', 'GMB_03', 'GMB_03', 'GMB_03', 'GMB_03', 'GMB_03', 'GMB_03', 'GMB_03', 'GMB_03', 'GMB_03', 'GMB_03', 'GMB_03', 'GMB_03', 'GMB_03', 'GMB_03', 'GMB_03', 'GMB_03', 'GMB_03', 'GMB_03', 'GMB_03', 'GMB_03', 'GMB_03', 'GMB_03', 'GMB_03', 'GMB_03', 'GMB_03', 'GMB_03', 'GMB_03', 'GMB_03', 'GMB_03', 'GMB_03', 'GMB_03', 'GMB_03', 'GMB_03', 'GMB_03', 'GMB_03', 'GMB_03', 'GMB_03', 'GMB_03', 'GMB_03', 'GMB_03', 'GMB_03', 'GMB_03', 'GMB_03', 'GMB_03', 'GMB_03', 'GMB_03', 'GMB_03', 'GMB_03', 'GMB_03', 'GMB_03', 'GMB_03', 'GMB_03', 'GMB_03', 'GMB_03', 'GMB_03', 'GMB_03', 'GMB_03', 'GMB_03', 'GMB_03', 'GMB_03', 'GMB_03', 'GMB_03', 'GMB_03', 'GMB_03', 'GMB_03', 'GMB_03', 'GMB_03', 'GMB_03', 'GMB_03', 'GMB_03', 'GMB_03', 'GMB_03', 'GMB_03', 'GMB_03', 'GMB_03', 'GMB_03', 'GMB_03', 'GMB_03', 'GMB_03', 'GMB_03', 'GMB_03', 'GMB_03', 'GMB_03', 'GMB_03', 'GMB_03', 'GMB_03', 'GMB_03', 'GMB_03', 'GMB_03', 'GMB_03', 'GMB_03', 'GMB_03', 'GMB_03', 'GMB_03', 'GMB_03', 'GMB_03', 'GMB_03', 'GMB_03', 'GMB_03', 'GMB_03', 'GMB_03', 'GMB_03', 'GMB_03', 'GMB_03', 'GMB_03', 'GMB_03', 'GMB_03', 'GMB_03', 'GMB_03', 'GMB_02', 'GMB_02', 'GMB_02', 'GMB_02', 'GMB_02', 'GMB_02', 'GMB_02', 'GMB_02', 'GMB_02', 'GMB_02', 'GMB_02', 'GMB_02', 'GMB_02', 'GMB_02', 'GMB_02', 'GMB_02', 'GMB_02', 'GMB_02', 'GMB_02', 'GMB_02', 'GMB_02', 'GMB_02', 'GMB_02', 'GMB_02', 'GMB_02', 'GMB_02', 'GMB_02', 'GMB_02', 'GMB_02', 'GMB_02', 'GMB_02', 'GMB_02', 'GMB_02', 'GMB_02', 'GMB_02', 'GMB_02', 'GMB_02', 'GMB_02', 'GMB_02', 'GMB_02', 'GMB_02', 'GMB_02', 'GMB_02', 'GMB_02', 'GMB_02', 'GMB_02', 'GMB_02', 'GMB_02', 'GMB_02', 'GMB_02', 'GMB_02', 'GMB_02', 'GMB_02', 'GMB_02', 'GMB_02', 'GMB_02', 'GMB_02', 'GMB_02', 'GMB_02', 'GMB_02', 'GMB_02', 'GMB_02', 'GMB_02', 'GMB_02', 'GMB_02', 'GMB_02', 'GMB_02', 'GMB_02', 'GMB_02', 'GMB_02', 'GMB_02', 'GMB_02', 'GMB_02', 'GMB_02', 'GMB_02', 'GMB_02', 'GMB_02', 'GMB_02', 'GMB_02', 'GMB_02', 'GMB_02', 'GMB_02', 'GMB_02', 'GMB_02', 'GMB_02', 'GMB_02', 'GMB_02', 'GMB_02', 'GMB_02', 'GMB_02', 'GMB_02', 'GMB_02', 'GMB_02', 'GMB_02', 'GMB_02', 'GMB_02', 'GMB_02', 'GMB_02', 'GMB_02', 'GMB_02', 'GMB_02', 'GMB_02', 'GMB_02', 'GMB_02', 'GMB_02', 'GMB_02', 'GMB_02', 'GMB_02', 'GMB_02', 'GMB_02', 'GMB_02', 'GMB_02', 'GMB_02', 'GMB_01', 'GMB_01', 'GMB_01', 'GMB_01', 'GMB_01', 'GMB_01', 'GMB_01', 'GMB_01', 'GMB_01', 'GMB_01', 'GMB_01', 'GMB_01', 'GMB_01', 'GMB_01', 'GMB_01', 'GMB_01', 'GMB_01', 'GMB_01', 'GMB_01', 'GMB_01', 'GMB_01', 'GMB_01', 'GMB_01', 'GMB_01', 'GMB_01', 'GMB_01', 'GMB_01', 'GMB_01', 'GMB_01', 'GMB_01', 'GMB_01', 'GMB_01', 'GMB_01', 'GMB_01', 'GMB_01', 'GMB_01', 'GMB_01', 'GMB_01', 'GMB_01', 'GMB_01', 'GMB_01', 'GMB_01', 'GMB_01', 'GMB_01', 'GMB_01', 'GMB_01', 'GMB_01', 'GMB_01', 'GMB_01', 'GMB_01', 'GMB_01', 'GMB_01', 'GMB_01', 'GMB_01', 'GMB_01', 'GMB_01', 'GMB_01', 'GMB_01', 'GMB_01', 'GMB_01', 'GMB_01', 'GMB_01', 'GMB_01', 'GMB_01', 'GMB_01', 'GMB_01', 'GMB_01', 'GMB_01', 'GMB_01', 'GMB_01', 'GMB_01', 'GMB_01', 'GMB_01', 'GMB_01', 'GMB_01', 'GMB_01', 'GMB_01', 'GMB_01', 'GMB_01', 'GMB_01', 'GMB_01', 'GMB_01', 'GMB_01', 'GMB_01', 'GMB_01', 'GMB_01', 'GMB_01', 'GMB_01', 'GMB_01', 'GMB_01', 'GMB_01', 'GMB_01', 'GMB_01', 'GMB_01', 'GMB_01', 'GMB_01', 'GMB_01', 'GMB_01', 'GMB_01', 'GMB_01', 'GMB_01', 'GMB_01', 'GMB_01', 'GMB_01', 'GMB_01', 'GMB_01', 'GMB_01', 'GMB_01', 'GMB_01', 'GMB_01', 'GMB_01', 'GMB_01', 'GMB_01', 'GMB_01', 'GMB_01', 'GMB_01', 'GMB_01']\n"
          ],
          "name": "stdout"
        }
      ]
    },
    {
      "cell_type": "code",
      "metadata": {
        "colab": {
          "base_uri": "https://localhost:8080/"
        },
        "id": "O5N2zcVCNdar",
        "outputId": "47cfe08b-1d31-4607-9ad0-706bceb7c5c8"
      },
      "source": [
        "# encode the labels, converting them from strings to integers\n",
        "lb = LabelBinarizer()\n",
        "labels = lb.fit_transform(labels)\n",
        "print(labels)"
      ],
      "execution_count": 57,
      "outputs": [
        {
          "output_type": "stream",
          "text": [
            "[[0 0 0 0 1]\n",
            " [0 0 0 0 1]\n",
            " [0 0 0 0 1]\n",
            " ...\n",
            " [1 0 0 0 0]\n",
            " [1 0 0 0 0]\n",
            " [1 0 0 0 0]]\n"
          ],
          "name": "stdout"
        }
      ]
    },
    {
      "cell_type": "code",
      "metadata": {
        "colab": {
          "base_uri": "https://localhost:8080/"
        },
        "id": "noQyDrKHPp4d",
        "outputId": "74e0da3c-9b2d-4751-b1e2-f5bcace20471"
      },
      "source": [
        "# perform a training and testing split, using 75% of the data for\n",
        "# training and 25% for evaluation\n",
        "(trainX, testX, trainY, testY) = train_test_split(np.array(data),\tnp.array(labels), test_size=0.25, shuffle=True)\n",
        "print(trainX.shape)\n",
        "print(testX.shape)\n",
        "print(trainY.shape)\n",
        "print(testY.shape)"
      ],
      "execution_count": 58,
      "outputs": [
        {
          "output_type": "stream",
          "text": [
            "(438, 64, 64, 3)\n",
            "(147, 64, 64, 3)\n",
            "(438, 5)\n",
            "(147, 5)\n"
          ],
          "name": "stdout"
        }
      ]
    },
    {
      "cell_type": "code",
      "metadata": {
        "colab": {
          "base_uri": "https://localhost:8080/"
        },
        "id": "OYaIbgwp_NZy",
        "outputId": "cf3f5b30-056a-419d-b8b7-5615af62d314"
      },
      "source": [
        "#MODEL 2\n",
        "# define our Convolutional Neural Network architecture\n",
        "model = Sequential()\n",
        "model.add(Conv2D(16, (3, 3), padding=\"same\", input_shape=(64, 64, 3)))\n",
        "model.add(Activation(\"relu\"))\n",
        "model.add(MaxPooling2D(pool_size=(2, 2), strides=(2, 2)))\n",
        "model.add(Conv2D(32, (3, 3), padding=\"same\"))\n",
        "model.add(Activation(\"relu\"))\n",
        "model.add(MaxPooling2D(pool_size=(2, 2), strides=(2, 2)))\n",
        "model.add(Conv2D(32, (3, 3), padding=\"same\"))\n",
        "model.add(Activation(\"relu\"))\n",
        "model.add(MaxPooling2D(pool_size=(2, 2), strides=(2, 2)))\n",
        "model.add(Flatten())\n",
        "#model.add(Dense(100))\n",
        "model.add(Dense(5))\n",
        "model.add(Activation(\"sigmoid\"))\n",
        "model.summary()"
      ],
      "execution_count": 77,
      "outputs": [
        {
          "output_type": "stream",
          "text": [
            "Model: \"sequential_21\"\n",
            "_________________________________________________________________\n",
            "Layer (type)                 Output Shape              Param #   \n",
            "=================================================================\n",
            "conv2d_63 (Conv2D)           (None, 64, 64, 16)        448       \n",
            "_________________________________________________________________\n",
            "activation_82 (Activation)   (None, 64, 64, 16)        0         \n",
            "_________________________________________________________________\n",
            "max_pooling2d_63 (MaxPooling (None, 32, 32, 16)        0         \n",
            "_________________________________________________________________\n",
            "conv2d_64 (Conv2D)           (None, 32, 32, 32)        4640      \n",
            "_________________________________________________________________\n",
            "activation_83 (Activation)   (None, 32, 32, 32)        0         \n",
            "_________________________________________________________________\n",
            "max_pooling2d_64 (MaxPooling (None, 16, 16, 32)        0         \n",
            "_________________________________________________________________\n",
            "conv2d_65 (Conv2D)           (None, 16, 16, 32)        9248      \n",
            "_________________________________________________________________\n",
            "activation_84 (Activation)   (None, 16, 16, 32)        0         \n",
            "_________________________________________________________________\n",
            "max_pooling2d_65 (MaxPooling (None, 8, 8, 32)          0         \n",
            "_________________________________________________________________\n",
            "flatten_18 (Flatten)         (None, 2048)              0         \n",
            "_________________________________________________________________\n",
            "dense_20 (Dense)             (None, 5)                 10245     \n",
            "_________________________________________________________________\n",
            "activation_85 (Activation)   (None, 5)                 0         \n",
            "=================================================================\n",
            "Total params: 24,581\n",
            "Trainable params: 24,581\n",
            "Non-trainable params: 0\n",
            "_________________________________________________________________\n"
          ],
          "name": "stdout"
        }
      ]
    },
    {
      "cell_type": "code",
      "metadata": {
        "colab": {
          "base_uri": "https://localhost:8080/"
        },
        "id": "avVTCQKGQ1xD",
        "outputId": "450ea99f-da23-48db-cd29-452122b0dbb2"
      },
      "source": [
        "# train the model using the Adam optimizer\n",
        "print(\"[INFO] training network...\")\n",
        "opt = Adam(lr=1e-3, decay=1e-3 / 50)\n",
        "model.compile(loss=\"binary_crossentropy\", optimizer=opt,metrics=[\"accuracy\"])\n",
        "H = model.fit(trainX, trainY, validation_data=(testX, testY), epochs=50)"
      ],
      "execution_count": 87,
      "outputs": [
        {
          "output_type": "stream",
          "text": [
            "[INFO] training network...\n",
            "Epoch 1/50\n",
            "14/14 [==============================] - 2s 130ms/step - loss: 0.5311 - accuracy: 0.1735 - val_loss: 0.5100 - val_accuracy: 0.1633\n",
            "Epoch 2/50\n",
            "14/14 [==============================] - 2s 121ms/step - loss: 0.5035 - accuracy: 0.2374 - val_loss: 0.4967 - val_accuracy: 0.1973\n",
            "Epoch 3/50\n",
            "14/14 [==============================] - 2s 118ms/step - loss: 0.4960 - accuracy: 0.2237 - val_loss: 0.4867 - val_accuracy: 0.2585\n",
            "Epoch 4/50\n",
            "14/14 [==============================] - 2s 122ms/step - loss: 0.4818 - accuracy: 0.3584 - val_loss: 0.4740 - val_accuracy: 0.3469\n",
            "Epoch 5/50\n",
            "14/14 [==============================] - 2s 118ms/step - loss: 0.4616 - accuracy: 0.4018 - val_loss: 0.4523 - val_accuracy: 0.3741\n",
            "Epoch 6/50\n",
            "14/14 [==============================] - 2s 118ms/step - loss: 0.4349 - accuracy: 0.4224 - val_loss: 0.4297 - val_accuracy: 0.4286\n",
            "Epoch 7/50\n",
            "14/14 [==============================] - 2s 117ms/step - loss: 0.4118 - accuracy: 0.4498 - val_loss: 0.4207 - val_accuracy: 0.4558\n",
            "Epoch 8/50\n",
            "14/14 [==============================] - 2s 118ms/step - loss: 0.3890 - accuracy: 0.5502 - val_loss: 0.4105 - val_accuracy: 0.4762\n",
            "Epoch 9/50\n",
            "14/14 [==============================] - 2s 119ms/step - loss: 0.3760 - accuracy: 0.5685 - val_loss: 0.3885 - val_accuracy: 0.4966\n",
            "Epoch 10/50\n",
            "14/14 [==============================] - 2s 118ms/step - loss: 0.3529 - accuracy: 0.5959 - val_loss: 0.3873 - val_accuracy: 0.5034\n",
            "Epoch 11/50\n",
            "14/14 [==============================] - 2s 116ms/step - loss: 0.3277 - accuracy: 0.6530 - val_loss: 0.3749 - val_accuracy: 0.5918\n",
            "Epoch 12/50\n",
            "14/14 [==============================] - 2s 116ms/step - loss: 0.3170 - accuracy: 0.6553 - val_loss: 0.3559 - val_accuracy: 0.6190\n",
            "Epoch 13/50\n",
            "14/14 [==============================] - 2s 118ms/step - loss: 0.2924 - accuracy: 0.7283 - val_loss: 0.3401 - val_accuracy: 0.6122\n",
            "Epoch 14/50\n",
            "14/14 [==============================] - 2s 121ms/step - loss: 0.2894 - accuracy: 0.7055 - val_loss: 0.3476 - val_accuracy: 0.5918\n",
            "Epoch 15/50\n",
            "14/14 [==============================] - 2s 117ms/step - loss: 0.2828 - accuracy: 0.7352 - val_loss: 0.3512 - val_accuracy: 0.6054\n",
            "Epoch 16/50\n",
            "14/14 [==============================] - 2s 118ms/step - loss: 0.2727 - accuracy: 0.7306 - val_loss: 0.3432 - val_accuracy: 0.6327\n",
            "Epoch 17/50\n",
            "14/14 [==============================] - 2s 121ms/step - loss: 0.2488 - accuracy: 0.7831 - val_loss: 0.3204 - val_accuracy: 0.6599\n",
            "Epoch 18/50\n",
            "14/14 [==============================] - 2s 119ms/step - loss: 0.2336 - accuracy: 0.7877 - val_loss: 0.3279 - val_accuracy: 0.6531\n",
            "Epoch 19/50\n",
            "14/14 [==============================] - 2s 121ms/step - loss: 0.2214 - accuracy: 0.8082 - val_loss: 0.3306 - val_accuracy: 0.6735\n",
            "Epoch 20/50\n",
            "14/14 [==============================] - 2s 122ms/step - loss: 0.2436 - accuracy: 0.7648 - val_loss: 0.3199 - val_accuracy: 0.6599\n",
            "Epoch 21/50\n",
            "14/14 [==============================] - 2s 120ms/step - loss: 0.2344 - accuracy: 0.7785 - val_loss: 0.3486 - val_accuracy: 0.6463\n",
            "Epoch 22/50\n",
            "14/14 [==============================] - 2s 119ms/step - loss: 0.2146 - accuracy: 0.8128 - val_loss: 0.3132 - val_accuracy: 0.7279\n",
            "Epoch 23/50\n",
            "14/14 [==============================] - 2s 117ms/step - loss: 0.1938 - accuracy: 0.8470 - val_loss: 0.3186 - val_accuracy: 0.6939\n",
            "Epoch 24/50\n",
            "14/14 [==============================] - 2s 118ms/step - loss: 0.1826 - accuracy: 0.8516 - val_loss: 0.3187 - val_accuracy: 0.7075\n",
            "Epoch 25/50\n",
            "14/14 [==============================] - 2s 119ms/step - loss: 0.1831 - accuracy: 0.8539 - val_loss: 0.3228 - val_accuracy: 0.6803\n",
            "Epoch 26/50\n",
            "14/14 [==============================] - 2s 123ms/step - loss: 0.1675 - accuracy: 0.8699 - val_loss: 0.3051 - val_accuracy: 0.6803\n",
            "Epoch 27/50\n",
            "14/14 [==============================] - 2s 122ms/step - loss: 0.1567 - accuracy: 0.8881 - val_loss: 0.3055 - val_accuracy: 0.6803\n",
            "Epoch 28/50\n",
            "14/14 [==============================] - 2s 119ms/step - loss: 0.1440 - accuracy: 0.8904 - val_loss: 0.3026 - val_accuracy: 0.7007\n",
            "Epoch 29/50\n",
            "14/14 [==============================] - 2s 120ms/step - loss: 0.1362 - accuracy: 0.9064 - val_loss: 0.3002 - val_accuracy: 0.7347\n",
            "Epoch 30/50\n",
            "14/14 [==============================] - 2s 119ms/step - loss: 0.1346 - accuracy: 0.8927 - val_loss: 0.3087 - val_accuracy: 0.6939\n",
            "Epoch 31/50\n",
            "14/14 [==============================] - 2s 119ms/step - loss: 0.1314 - accuracy: 0.9064 - val_loss: 0.3163 - val_accuracy: 0.7143\n",
            "Epoch 32/50\n",
            "14/14 [==============================] - 2s 175ms/step - loss: 0.1430 - accuracy: 0.8858 - val_loss: 0.3630 - val_accuracy: 0.6735\n",
            "Epoch 33/50\n",
            "14/14 [==============================] - 2s 158ms/step - loss: 0.1238 - accuracy: 0.9178 - val_loss: 0.3608 - val_accuracy: 0.6735\n",
            "Epoch 34/50\n",
            "14/14 [==============================] - 2s 120ms/step - loss: 0.1320 - accuracy: 0.8904 - val_loss: 0.3449 - val_accuracy: 0.6803\n",
            "Epoch 35/50\n",
            "14/14 [==============================] - 2s 120ms/step - loss: 0.1101 - accuracy: 0.9247 - val_loss: 0.3063 - val_accuracy: 0.7347\n",
            "Epoch 36/50\n",
            "14/14 [==============================] - 2s 118ms/step - loss: 0.1006 - accuracy: 0.9361 - val_loss: 0.3190 - val_accuracy: 0.7143\n",
            "Epoch 37/50\n",
            "14/14 [==============================] - 2s 118ms/step - loss: 0.1069 - accuracy: 0.9315 - val_loss: 0.3288 - val_accuracy: 0.7279\n",
            "Epoch 38/50\n",
            "14/14 [==============================] - 2s 119ms/step - loss: 0.0999 - accuracy: 0.9247 - val_loss: 0.3352 - val_accuracy: 0.7211\n",
            "Epoch 39/50\n",
            "14/14 [==============================] - 2s 120ms/step - loss: 0.0930 - accuracy: 0.9498 - val_loss: 0.3435 - val_accuracy: 0.7279\n",
            "Epoch 40/50\n",
            "14/14 [==============================] - 2s 120ms/step - loss: 0.0942 - accuracy: 0.9384 - val_loss: 0.3190 - val_accuracy: 0.7211\n",
            "Epoch 41/50\n",
            "14/14 [==============================] - 2s 122ms/step - loss: 0.0838 - accuracy: 0.9406 - val_loss: 0.3221 - val_accuracy: 0.7551\n",
            "Epoch 42/50\n",
            "14/14 [==============================] - 2s 119ms/step - loss: 0.0757 - accuracy: 0.9589 - val_loss: 0.3487 - val_accuracy: 0.7279\n",
            "Epoch 43/50\n",
            "14/14 [==============================] - 2s 120ms/step - loss: 0.0661 - accuracy: 0.9589 - val_loss: 0.3410 - val_accuracy: 0.7415\n",
            "Epoch 44/50\n",
            "14/14 [==============================] - 2s 118ms/step - loss: 0.0562 - accuracy: 0.9749 - val_loss: 0.3246 - val_accuracy: 0.7551\n",
            "Epoch 45/50\n",
            "14/14 [==============================] - 2s 117ms/step - loss: 0.0605 - accuracy: 0.9635 - val_loss: 0.3298 - val_accuracy: 0.7687\n",
            "Epoch 46/50\n",
            "14/14 [==============================] - 2s 118ms/step - loss: 0.0596 - accuracy: 0.9703 - val_loss: 0.3737 - val_accuracy: 0.7415\n",
            "Epoch 47/50\n",
            "14/14 [==============================] - 2s 119ms/step - loss: 0.0588 - accuracy: 0.9772 - val_loss: 0.3640 - val_accuracy: 0.7415\n",
            "Epoch 48/50\n",
            "14/14 [==============================] - 2s 117ms/step - loss: 0.0558 - accuracy: 0.9703 - val_loss: 0.3500 - val_accuracy: 0.7483\n",
            "Epoch 49/50\n",
            "14/14 [==============================] - 2s 118ms/step - loss: 0.0564 - accuracy: 0.9703 - val_loss: 0.3883 - val_accuracy: 0.7415\n",
            "Epoch 50/50\n",
            "14/14 [==============================] - 2s 117ms/step - loss: 0.0485 - accuracy: 0.9749 - val_loss: 0.3642 - val_accuracy: 0.8095\n"
          ],
          "name": "stdout"
        }
      ]
    },
    {
      "cell_type": "code",
      "metadata": {
        "colab": {
          "base_uri": "https://localhost:8080/",
          "height": 312
        },
        "id": "cmgTcx2oTbUA",
        "outputId": "24064c6f-9744-494c-af81-7f168c4e3792"
      },
      "source": [
        "import matplotlib.pyplot as plt\n",
        "\n",
        "print(H.history.keys())\n",
        "# summarize history for accuracy\n",
        "plt.plot(H.history['accuracy'])\n",
        "plt.plot(H.history['val_accuracy'])\n",
        "plt.title('model accuracy')\n",
        "plt.ylabel('accuracy')\n",
        "plt.xlabel('epoch')\n",
        "plt.legend(['train', 'test'], loc='upper left')\n",
        "plt.show()"
      ],
      "execution_count": 88,
      "outputs": [
        {
          "output_type": "stream",
          "text": [
            "dict_keys(['loss', 'accuracy', 'val_loss', 'val_accuracy'])\n"
          ],
          "name": "stdout"
        },
        {
          "output_type": "display_data",
          "data": {
            "image/png": "[encoded data removed]",
            "text/plain": [
              "<Figure size 432x288 with 1 Axes>"
            ]
          },
          "metadata": {
            "tags": [],
            "needs_background": "light"
          }
        }
      ]
    },
    {
      "cell_type": "code",
      "metadata": {
        "colab": {
          "base_uri": "https://localhost:8080/",
          "height": 295
        },
        "id": "Hld15-_VTiQf",
        "outputId": "9b4c115e-5c80-4c4c-eef0-223f8a363622"
      },
      "source": [
        "# summarize history for loss\n",
        "plt.plot(H.history['loss'])\n",
        "plt.plot(H.history['val_loss'])\n",
        "plt.title('model loss')\n",
        "plt.ylabel('loss')\n",
        "plt.xlabel('epoch')\n",
        "plt.legend(['train', 'test'], loc='upper left')\n",
        "plt.show()\n"
      ],
      "execution_count": 89,
      "outputs": [
        {
          "output_type": "display_data",
          "data": {
            "image/png": "[encoded data removed]",
            "text/plain": [
              "<Figure size 432x288 with 1 Axes>"
            ]
          },
          "metadata": {
            "tags": [],
            "needs_background": "light"
          }
        }
      ]
    },
    {
      "cell_type": "code",
      "metadata": {
        "colab": {
          "base_uri": "https://localhost:8080/"
        },
        "id": "RVTb24BeUBKl",
        "outputId": "b9523468-9bda-4e3b-d4ec-30465dbe3f73"
      },
      "source": [
        "# evaluate the network\n",
        "print(\"[INFO] evaluating network...\")\n",
        "predictions = model.predict(testX, batch_size=32)\n",
        "print(classification_report(testY.argmax(axis=1),predictions.argmax(axis=1), target_names=lb.classes_))"
      ],
      "execution_count": 90,
      "outputs": [
        {
          "output_type": "stream",
          "text": [
            "[INFO] evaluating network...\n",
            "              precision    recall  f1-score   support\n",
            "\n",
            "      GMB_01       0.77      0.71      0.74        28\n",
            "      GMB_02       0.84      0.79      0.81        33\n",
            "      GMB_03       0.82      0.93      0.87        29\n",
            "      GMB_10       0.77      0.83      0.80        24\n",
            "      GMB_11       0.84      0.79      0.81        33\n",
            "\n",
            "    accuracy                           0.81       147\n",
            "   macro avg       0.81      0.81      0.81       147\n",
            "weighted avg       0.81      0.81      0.81       147\n",
            "\n"
          ],
          "name": "stdout"
        }
      ]
    }
  ]
}