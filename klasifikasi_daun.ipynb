{
  "nbformat": 4,
  "nbformat_minor": 0,
  "metadata": {
    "colab": {
      "name": "klasifikasi daun.ipynb",
      "provenance": [],
      "authorship_tag": "ABX9TyOZlfK3aQoqoP6Hh5JwrML4",
      "include_colab_link": true
    },
    "kernelspec": {
      "name": "python3",
      "display_name": "Python 3"
    }
  },
  "cells": [
    {
      "cell_type": "markdown",
      "metadata": {
        "id": "view-in-github",
        "colab_type": "text"
      },
      "source": [
        "<a href=\"https://colab.research.google.com/github/basnendarekop/SLO/blob/main/klasifikasi_daun.ipynb\" target=\"_parent\"><img src=\"https://colab.research.google.com/assets/colab-badge.svg\" alt=\"Open In Colab\"/></a>"
      ]
    },
    {
      "cell_type": "code",
      "metadata": {
        "colab": {
          "base_uri": "https://localhost:8080/"
        },
        "id": "CM7fkmKMoH0y",
        "outputId": "d7a1ab68-6446-4ded-95f7-f6c011403db4"
      },
      "source": [
        "from google.colab import drive\n",
        "drive.mount('/content/drive')"
      ],
      "execution_count": 3,
      "outputs": [
        {
          "output_type": "stream",
          "text": [
            "Mounted at /content/drive\n"
          ],
          "name": "stdout"
        }
      ]
    },
    {
      "cell_type": "code",
      "metadata": {
        "colab": {
          "base_uri": "https://localhost:8080/"
        },
        "id": "cksBIgKNoq07",
        "outputId": "2b0be20d-dcaf-41ce-fb09-b144b89f5175"
      },
      "source": [
        "cd /content/drive/My Drive/Colab Notebooks\n"
      ],
      "execution_count": 4,
      "outputs": [
        {
          "output_type": "stream",
          "text": [
            "/content/drive/My Drive/Colab Notebooks\n"
          ],
          "name": "stdout"
        }
      ]
    },
    {
      "cell_type": "code",
      "metadata": {
        "colab": {
          "base_uri": "https://localhost:8080/"
        },
        "id": "JI0eBClPo96M",
        "outputId": "924dd592-52a5-4aa9-c6d8-f95f30188657"
      },
      "source": [
        "ls\n"
      ],
      "execution_count": 5,
      "outputs": [
        {
          "output_type": "stream",
          "text": [
            "\u001b[0m\u001b[01;34m'Copy of dataset'\u001b[0m/         Klasifikasi_MNIST.ipynb       Pertamina.jpg\n",
            " \u001b[01;34mdataset_daun\u001b[0m/             Klasifikasi_MNIST_new.ipynb   RumahSakit.jpg\n",
            "\u001b[01;34m'Dataset MNIST'\u001b[0m/           \u001b[01;34mLatihan\u001b[0m/                      Tes.jpg\n",
            " kapal.ipynb               mnist_test.csv                TLD.jpg\n",
            " KDA.jpg                   mnist_train.csv               Untitled0.ipynb\n",
            "'klasifikasi daun.ipynb'   Multatuli.jpg\n"
          ],
          "name": "stdout"
        }
      ]
    },
    {
      "cell_type": "code",
      "metadata": {
        "colab": {
          "base_uri": "https://localhost:8080/"
        },
        "id": "YbEfoRuupDi7",
        "outputId": "a5a5ee27-e169-45a8-df67-fcb66a439591"
      },
      "source": [
        "# import the necessary packages\n",
        "from keras.models import Sequential\n",
        "from keras.layers.convolutional import Conv2D\n",
        "from keras.layers.convolutional import MaxPooling2D\n",
        "from keras.layers.core import Activation\n",
        "from keras.layers.core import Flatten\n",
        "from keras.layers.core import Dense\n",
        "from keras.optimizers import Adam\n",
        "from sklearn.preprocessing import LabelBinarizer\n",
        "from sklearn.model_selection import train_test_split\n",
        "from sklearn.metrics import classification_report\n",
        "from PIL import Image\n",
        "from imutils import paths\n",
        "import numpy as np\n",
        "import os\n",
        "print(\"[INFO] impoting packages...\")"
      ],
      "execution_count": 2,
      "outputs": [
        {
          "output_type": "stream",
          "text": [
            "[INFO] impoting packages...\n"
          ],
          "name": "stdout"
        }
      ]
    }
  ]
}